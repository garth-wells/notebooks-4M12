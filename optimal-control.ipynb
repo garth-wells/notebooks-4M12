{
 "cells": [
  {
   "cell_type": "code",
   "execution_count": null,
   "metadata": {},
   "outputs": [],
   "source": [
    "from mpi4py import MPI\n",
    "\n",
    "from basix.ufl import element, mixed_element\n",
    "\n",
    "import dolfinx\n",
    "from dolfinx.mesh import CellType, create_unit_square\n",
    "\n",
    "from dolfinx.fem import (\n",
    "    Constant,\n",
    "    Function,\n",
    "    dirichletbc,\n",
    "    extract_function_spaces,\n",
    "    form,\n",
    "    functionspace,\n",
    "    locate_dofs_topological,\n",
    ")\n"
   ]
  },
  {
   "cell_type": "code",
   "execution_count": null,
   "metadata": {},
   "outputs": [],
   "source": [
    "msh = create_unit_square(MPI.COMM_WORLD, 96, 96, CellType.triangle)\n",
    "\n",
    "P1 = element(\"Lagrange\", msh.basix_cell(), degree=1)\n",
    "E = mixed_element([P1, P1, P1])\n",
    "V = functionspace(msh, E)"
   ]
  },
  {
   "cell_type": "code",
   "execution_count": null,
   "metadata": {},
   "outputs": [],
   "source": []
  }
 ],
 "metadata": {
  "language_info": {
   "name": "python"
  }
 },
 "nbformat": 4,
 "nbformat_minor": 2
}
